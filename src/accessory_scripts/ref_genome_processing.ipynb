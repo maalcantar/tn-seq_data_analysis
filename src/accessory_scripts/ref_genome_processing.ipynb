{
 "cells": [
  {
   "cell_type": "code",
   "execution_count": null,
   "id": "5532495f-d9b0-4c80-9ef5-1bd7d84e1046",
   "metadata": {},
   "outputs": [],
   "source": [
    "import pandas as pd\n",
    "import numpy as np\n",
    "MDS42_path = '/Users/attienglish/Dropbox (MIT)/PhD Project/6_GRN_evolution/tn-seq_data/NGS_ref_genomes/MDS42/'\n",
    "MG1655_path = '/Users/attienglish/Dropbox (MIT)/PhD Project/6_GRN_evolution/tn-seq_data/NGS_ref_genomes/MG1655/U00096_sorted.bed'"
   ]
  },
  {
   "cell_type": "markdown",
   "id": "0540df1a-e8b5-4463-b3e9-19152af03d57",
   "metadata": {},
   "source": [
    "## BED file format\n",
    "\n",
    "#### The first three required BED fields are:\n",
    "\n",
    "**chrom** - The name of the chromosome (e.g. chr3, chrY, chr2_random) or scaffold (e.g. scaffold10671).\n",
    "\n",
    "**chromStart** - The starting position of the feature in the chromosome or scaffold. The first base in a chromosome is numbered 0.\n",
    "\n",
    "**chromEnd** - The ending position of the feature in the chromosome or scaffold. The chromEnd base is not included in the display of the feature, however, the number in position format will be represented. For example, the first 100 bases of chromosome 1 are defined as chrom=1, chromStart=0, chromEnd=100, and span the bases numbered 0-99 in our software (not 0-100), but will represent the position notation chr1:1-100. Read more here.\n",
    "chromStart and chromEnd can be identical, creating a feature of length 0, commonly used for insertions. For example, use chromStart=0, chromEnd=0 to represent an insertion before the first nucleotide of a chromosome.\n",
    "\n",
    "#### The 9 additional optional BED fields are:\n",
    "\n",
    "**name** - Defines the name of the BED line. This label is displayed to the left of the BED line in the Genome Browser window when the track is open to full display mode or directly to the left of the item in pack mode.\n",
    "\n",
    "**score** - A score between 0 and 1000. If the track line useScore attribute is set to 1 for this annotation data set, the score value will determine the level of gray in which this feature is displayed (higher numbers = darker gray). This table shows the Genome Browser's translation of BED score values into shades of gray:\n",
    "shade\t \t \t \t \t \t \t \t \t \n",
    "score in range  \t≤ 166\t167-277\t278-388\t389-499\t500-611\t612-722\t723-833\t834-944\t≥ 945\n",
    "\n",
    "**strand** - Defines the strand. Either \".\" (=no strand) or \"+\" or \"-\".\n",
    "\n",
    "**thickStart** - The starting position at which the feature is drawn thickly (for example, the start codon in gene displays). When there is no thick part, thickStart and thickEnd are usually set to the chromStart position.\n",
    "\n",
    "**thickEnd** - The ending position at which the feature is drawn thickly (for example the stop codon in gene displays).\n",
    "\n",
    "**itemRgb** - An RGB value of the form R,G,B (e.g. 255,0,0). If the track line itemRgb attribute is set to \"On\", this RBG value will determine the display color of the data contained in this BED line. NOTE: It is recommended that a simple color scheme (eight colors or less) be used with this attribute to avoid overwhelming the color resources of the Genome Browser and your Internet browser.\n",
    "\n",
    "**blockCount** - The number of blocks (exons) in the BED line.\n",
    "\n",
    "**blockSizes** - A comma-separated list of the block sizes. The number of items in this list should correspond to blockCount.\n",
    "\n",
    "**blockStarts** - Acomma-separated list of block starts. All of the blockStart positions should be calculated relative to chromStart. The number of items in this list should correspond to blockCount."
   ]
  },
  {
   "cell_type": "code",
   "execution_count": null,
   "id": "7728a2c8-f115-4be8-a563-7286400aee72",
   "metadata": {},
   "outputs": [],
   "source": [
    "bedfile_heads = ['chrom',\\\n",
    "                'chromStart',\\\n",
    "                'chromEnd',\\\n",
    "                'name',\\\n",
    "                'score',\\\n",
    "                'strand',\\\n",
    "                'thickStart',\\\n",
    "                'thickEnd',\\\n",
    "                'itemRgb',\\\n",
    "                'attributes']"
   ]
  },
  {
   "cell_type": "markdown",
   "id": "84710d7e-a227-4028-86ad-5234ee3153b5",
   "metadata": {},
   "source": [
    "## GFF2/GTF File Format\n",
    "\n",
    "#### Fields\n",
    "Fields must be tab-separated. Also, all but the final field in each feature line must contain a value; \"empty\" columns should be denoted with a '.'\n",
    "\n",
    "**seqname** - name of the chromosome or scaffold; chromosome names can be given with or without the 'chr' prefix. Important note: the seqname must be one used within Ensembl, i.e. a standard chromosome name or an Ensembl identifier such as a scaffold ID, without any additional content such as species or assembly. See the example GFF output below.\n",
    "\n",
    "**source** - name of the program that generated this feature, or the data source (database or project name)\n",
    "\n",
    "**feature** - feature type name, e.g. Gene, Variation, Similarity\n",
    "\n",
    "**start** - Start position* of the feature, with sequence numbering starting at 1.\n",
    "\n",
    "**end** - End position* of the feature, with sequence numbering starting at 1.\n",
    "\n",
    "**score** - A floating point value.\n",
    "\n",
    "**strand** - defined as + (forward) or - (reverse).\n",
    "\n",
    "**frame** - One of '0', '1' or '2'. '0' indicates that the first base of the feature is the first base of a codon, '1' that the second base is the first base of a codon, and so on..\n",
    "\n",
    "**attribute** - A semicolon-separated list of tag-value pairs, providing additional information about each feature.\n"
   ]
  },
  {
   "cell_type": "markdown",
   "id": "b183590c-c12f-4ce2-8afc-6aef64ef2b0e",
   "metadata": {
    "tags": []
   },
   "source": [
    "## GFF3 File Format\n",
    "\n",
    "#### Fields\n",
    "The first line of a GFF3 file must be a comment that identifies the version, e.g. ##gff-version 3\n",
    "Fields must be tab-separated. Also, all but the final field in each feature line must contain a value; \"empty\" columns should be denoted with a '.'\n",
    "\n",
    "**seqid** - name of the chromosome or scaffold; chromosome names can be given with or without the 'chr' prefix. Important note: the seq ID must be one used within Ensembl, i.e. a standard chromosome name or an Ensembl identifier such as a scaffold ID, without any additional content such as species or assembly. See the example GFF output below.\n",
    "\n",
    "**source** - name of the program that generated this feature, or the data source (database or project name)\n",
    "\n",
    "**type** - type of feature. Must be a term or accession from the SOFA sequence ontology\n",
    "\n",
    "**start** - Start position of the feature, with sequence numbering starting at 1.\n",
    "\n",
    "**end** - End position of the feature, with sequence numbering starting at 1.\n",
    "\n",
    "**score** - A floating point value.\n",
    "\n",
    "**strand** - defined as + (forward) or - (reverse).\n",
    "\n",
    "**phase** - One of '0', '1' or '2'. '0' indicates that the first base of the feature is the first base of a codon, '1' that the second base is the first base of a codon, and so on..\n",
    "\n",
    "**attributes** - A semicolon-separated list of tag-value pairs, providing additional information about each feature. Some of these tags are predefined, e.g. ID, Name, Alias, Parent - see the GFF documentation for more details.\n"
   ]
  },
  {
   "cell_type": "code",
   "execution_count": null,
   "id": "58ddf592-6bf9-418d-b40c-11dfbb99999c",
   "metadata": {},
   "outputs": [],
   "source": [
    "mds42_gff3 = pd.read_csv(MDS42_path+'AP012306_sorted.gff3', \\\n",
    "                   sep='\\t',header=None,names=['seqid','source','type','start','end','score','strand','phase','attributes'], \\\n",
    "                   skiprows=0)\n",
    "\n",
    "mds42_gff3.head()"
   ]
  },
  {
   "cell_type": "code",
   "execution_count": null,
   "id": "f91ccbb1-2d06-470b-ae13-338753b5ca45",
   "metadata": {},
   "outputs": [],
   "source": [
    "mds42_bed = pd.read_csv(MDS42_path+'AP012306_sorted.bed', \\\n",
    "                   sep='\\t',header=None,names=['chrom','chromStart','chromEnd','name','score','strand','source','type','phase','attributes'], \\\n",
    "                   skiprows=0)\n",
    "\n",
    "mds42_bed.head()"
   ]
  },
  {
   "cell_type": "code",
   "execution_count": null,
   "id": "8d7973bd-139b-4822-93ff-519ce0b718f4",
   "metadata": {},
   "outputs": [],
   "source": [
    "mg1655_gff3 = pd.read_csv(MG1655_path+'U00096_sorted.gff3', \\\n",
    "                   sep='\\t',header=None,names=['seqid','source','type','start','end','score','strand','phase','attributes'], \\\n",
    "                   skiprows=0)\n",
    "\n",
    "mg1655_gff3.head()"
   ]
  },
  {
   "cell_type": "code",
   "execution_count": null,
   "id": "67522526-31e8-4fb4-ba58-fb706667b657",
   "metadata": {},
   "outputs": [],
   "source": [
    "mg1655_bed = pd.read_csv(MG1655_path, \\\n",
    "                   sep='\\t',header=None,names=['chrom','chromStart','chromEnd','name','score','strand','source','type','phase','attributes'], \\\n",
    "                   skiprows=0)\n",
    "\n",
    "mg1655_bed.head()"
   ]
  },
  {
   "cell_type": "code",
   "execution_count": null,
   "id": "1c73c463-ad67-482d-a5ac-e1813d1457a3",
   "metadata": {},
   "outputs": [],
   "source": [
    "# step 1: convert scores to zero\n",
    "# Convert \".\" to zero in score to 0\n",
    "def zeroscore_genomefile(filepath):\n",
    "    bedfile = pd.read_csv(filepath, sep='\\t',header=None,names=['chrom','chromStart','chromEnd','name','score','strand','source','type','phase','attributes'], \\\n",
    "                   skiprows=0)\n",
    "\n",
    "    bedfile_zeroscore = bedfile.copy(deep=True)\n",
    "    bedfile_zeroscore_name = bedfile_zeroscore.iloc[0,0]\n",
    "    bedfile_zeroscore_name = bedfile_zeroscore_name.split('.')[0]\n",
    "    index = 0\n",
    "    for row in bedfile['score']:\n",
    "        if bedfile.loc[index,'score'] == '.':\n",
    "            bedfile_zeroscore.loc[index,'score'] = 0\n",
    "        index +=1\n",
    "    \n",
    "    bedfile_zeroscore.to_csv(filepath[:-4]+'_zeroscore.bed', sep='\\t', header=False, index = False)\n",
    "    return bedfile_zeroscore"
   ]
  },
  {
   "cell_type": "code",
   "execution_count": null,
   "id": "97ff451f-d276-4ff2-9e9e-f846d7b73d60",
   "metadata": {},
   "outputs": [],
   "source": [
    "mds42_zeroscore_bed = zeroscore_genomefile(MDS42_path+'AP012306_sorted.bed')\n",
    "mg1655_zeroscore_bed = zeroscore_genomefile(MG1655_path+'U00096_sorted.bed')\n"
   ]
  },
  {
   "cell_type": "code",
   "execution_count": 230,
   "id": "a9a0f976-002c-4e25-b4c9-7f19ae35ec93",
   "metadata": {},
   "outputs": [
    {
     "data": {
      "text/plain": [
       "'/Users/attienglish/Dropbox (MIT)/PhD Project/6_GRN_evolution/tn-seq_data/NGS_ref_genomes/MG1655/U00096_sorted'"
      ]
     },
     "execution_count": 230,
     "metadata": {},
     "output_type": "execute_result"
    }
   ],
   "source": [
    "MG1655_path[:-4]"
   ]
  },
  {
   "cell_type": "code",
   "execution_count": null,
   "id": "01a73495-2831-4a57-b768-4bb0f2c7b481",
   "metadata": {},
   "outputs": [],
   "source": [
    "def create_PGT_bedfile(filepath,zeroscore_bedfile):\n",
    "    outfilepath = filepath[:-10]\n",
    "        # Find all the unique types of gbkey\n",
    "    zeroscore_bed_copy = zeroscore_bedfile.copy()\n",
    "    zeroscore_bed_copy.columns = bedfile_heads\n",
    "    zeroscore_bed_copy['thickStart'] = zeroscore_bed_copy['chromStart']\n",
    "    zeroscore_bed_copy['thickEnd'] = zeroscore_bed_copy['chromEnd']\n",
    "\n",
    "    #colors =\n",
    "    #rgb(185,144,149)\", <-> #b99095\n",
    "    #\"rgb(252,181,172)\",<-> #fcb5ac\n",
    "    #\"rgb(181,229,207)\",<-> #b5e5cf\n",
    "    #\"rgb(61,91,89)\",<-> #3d5b59\n",
    "    #\"rgb(41,195,234)\",<-> #29c3ea\n",
    "    #\"rgb(254,217,108)\",<-> #fed96c\n",
    "    #\"rgb(236,220,235)\",<-> #ecdceb\n",
    "    #\"rgb(214,214,214)\", <-> #d6d6d6\n",
    "\n",
    "    for x in range(len(zeroscore_bed_copy['attributes'])):\n",
    "        attributes_str_split = zeroscore_bed_copy['attributes'][x].split(';')\n",
    "        for attribute in attributes_str_split:\n",
    "            if 'gbkey=CDS' in attribute:\n",
    "                #print('found cds')\n",
    "                gene_id_prefix = 'Name='\n",
    "                name = extract_gene_name(attributes_str_split, gene_id_prefix)\n",
    "                color = '181,229,207'\n",
    "                zeroscore_bed_copy.loc[x, 'name'] = name\n",
    "                zeroscore_bed_copy.loc[x, 'itemRgb'] = color\n",
    "\n",
    "            elif 'gbkey=Gene' in attribute:\n",
    "                #print('found gene')\n",
    "                gene_id_prefix = 'gene='\n",
    "                name = extract_gene_name(attributes_str_split, gene_id_prefix)\n",
    "                color = '252,181,172'\n",
    "                zeroscore_bed_copy.loc[x, 'name'] = name\n",
    "                zeroscore_bed_copy.loc[x, 'itemRgb'] = color\n",
    "\n",
    "            elif 'gbkey=Src' in attribute:\n",
    "                #print('found genome')\n",
    "                gene_id_prefix = 'substrain='\n",
    "                name = extract_gene_name(attributes_str_split, gene_id_prefix)\n",
    "                color = '214,214,214'\n",
    "                zeroscore_bed_copy.loc[x, 'name'] = name\n",
    "                zeroscore_bed_copy.loc[x, 'itemRgb'] = color\n",
    "\n",
    "            elif 'gbkey=misc_RNA' in attribute:\n",
    "                #print('found misc_RNA')\n",
    "                gene_id_prefix =  'locus_tag='\n",
    "                name = extract_gene_name(attributes_str_split, gene_id_prefix)\n",
    "                color = '185,144,149'\n",
    "                zeroscore_bed_copy.loc[x, 'name'] = name\n",
    "                zeroscore_bed_copy.loc[x, 'itemRgb'] = color\n",
    "\n",
    "            elif 'gbkey=misc_feature' in attribute:\n",
    "                #print('found misc_feature')\n",
    "                gene_id_prefix = 'Note='\n",
    "                name = extract_gene_name(attributes_str_split, gene_id_prefix)\n",
    "                color = '214,214,214'\n",
    "                zeroscore_bed_copy.loc[x, 'name'] = name\n",
    "                zeroscore_bed_copy.loc[x, 'itemRgb'] = color\n",
    "\n",
    "            elif 'gbkey=ncRNA' in attribute:\n",
    "                #print('found ncRNA')\n",
    "                gene_id_prefix = 'locus_tag='\n",
    "                name = extract_gene_name(attributes_str_split, gene_id_prefix)\n",
    "                color = '61,91,89'\n",
    "                zeroscore_bed_copy.loc[x, 'name'] = name\n",
    "                zeroscore_bed_copy.loc[x, 'itemRgb'] = color\n",
    "\n",
    "            elif 'gbkey=rRNA' in attribute:\n",
    "                #print('found rRNA')\n",
    "                gene_id_prefix = 'locus_tag='\n",
    "                name = extract_gene_name(attributes_str_split, gene_id_prefix)\n",
    "                color = '185,144,149'\n",
    "                zeroscore_bed_copy.loc[x, 'name'] = name\n",
    "                zeroscore_bed_copy.loc[x, 'itemRgb'] = color\n",
    "\n",
    "            elif 'gbkey=tRNA' in attribute:\n",
    "                #print('found tRNA')\n",
    "                gene_id_prefix = 'locus_tag='\n",
    "                name = extract_gene_name(attributes_str_split, gene_id_prefix)\n",
    "                color = '236,220,235'\n",
    "                zeroscore_bed_copy.loc[x, 'name'] = name\n",
    "                zeroscore_bed_copy.loc[x, 'itemRgb'] = color\n",
    "\n",
    "            elif 'gbkey=tmRNA' in attribute:\n",
    "                #print('found tmRNA')\n",
    "                gene_id_prefix = 'locus_tag='\n",
    "                name = extract_gene_name(attributes_str_split, gene_id_prefix)\n",
    "                color = '236,220,235'\n",
    "                zeroscore_bed_copy.loc[x, 'name'] = name\n",
    "                zeroscore_bed_copy.loc[x, 'itemRgb'] = color\n",
    "\n",
    "            elif 'gbkey=mobile_element' in attribute:\n",
    "                #print('found mobile_element')\n",
    "                gene_id_prefix = 'mobile_element_type='\n",
    "                name = extract_gene_name(attributes_str_split, gene_id_prefix)\n",
    "                color = '41,195,234'\n",
    "                zeroscore_bed_copy.loc[x, 'name'] = name\n",
    "                zeroscore_bed_copy.loc[x, 'itemRgb'] = color\n",
    "\n",
    "            elif 'gbkey=rep_origin' in attribute:\n",
    "                #print('found rep_origin')\n",
    "                gene_id_prefix = 'Note='\n",
    "                name = extract_gene_name(attributes_str_split, gene_id_prefix)\n",
    "                color = '254,217,108'\n",
    "                zeroscore_bed_copy.loc[x, 'name'] = name\n",
    "                zeroscore_bed_copy.loc[x, 'itemRgb'] = color\n",
    "    \n",
    "    zeroscore_bed_copy.drop(labels='attributes', axis=1,inplace=True)\n",
    "    zeroscore_bed_copy.drop(labels=0, axis=0,inplace=True)\n",
    "    zeroscore_bed_copy.to_csv(outfilepath+'PGT_format.bed', sep='\\t', header=False, index = False)\n",
    "    return zeroscore_bed_copy"
   ]
  },
  {
   "cell_type": "code",
   "execution_count": null,
   "id": "47ce1e74-c54d-42f1-9e84-74996b987828",
   "metadata": {},
   "outputs": [],
   "source": [
    "mds42_PGT_bed = create_PGT_bedfile(MDS42_path+'AP012306_sorted.bed',mds42_zeroscore_bed)\n"
   ]
  },
  {
   "cell_type": "code",
   "execution_count": null,
   "id": "16da0dc6-e6c9-437d-9835-0abefb158c3e",
   "metadata": {},
   "outputs": [],
   "source": []
  },
  {
   "cell_type": "code",
   "execution_count": null,
   "id": "691d33c6-a0ca-483a-aa26-2a20d8b74f8f",
   "metadata": {},
   "outputs": [],
   "source": [
    "mds42_PGT_bed"
   ]
  },
  {
   "cell_type": "code",
   "execution_count": null,
   "id": "36975675-b27f-4e7b-8a8f-622e9778417b",
   "metadata": {},
   "outputs": [],
   "source": [
    "mg1655_PGT_bed"
   ]
  },
  {
   "cell_type": "code",
   "execution_count": null,
   "id": "19e4021e-c966-4052-99f7-b6b9fe8f17b2",
   "metadata": {},
   "outputs": [],
   "source": [
    "print(np.unique(gbkeys_all))"
   ]
  },
  {
   "cell_type": "code",
   "execution_count": null,
   "id": "de108174-3a12-4b93-908a-f2cb9e3f7bdf",
   "metadata": {},
   "outputs": [],
   "source": [
    "def index_containing_substring(list_to_search, substring):\n",
    "    '''\n",
    "    adapted from https://stackoverflow.com/questions/2170900/get-first-list-index-containing-sub-string\n",
    "    search a list for a specific substring, and return the index of the first\n",
    "    element containing the substring.\n",
    "\n",
    "    PARAMETERS\n",
    "    --------------------\n",
    "    list_to_search: list\n",
    "        list of strings that will be searched for the presence of a specific substring.\n",
    "    substring: str\n",
    "        substring to search for.\n",
    "\n",
    "    RETURNS\n",
    "    --------------------\n",
    "    index: int\n",
    "        index indicating which list element contains the substring. only the first\n",
    "        index is returned.\n",
    "    '''\n",
    "\n",
    "    for index, string in enumerate(list_to_search):\n",
    "        if substring in string:\n",
    "              return(index)\n",
    "    return -1\n",
    "\n",
    "def extract_gene_name(attribute_str_split, gene_id_prefix):\n",
    "    '''\n",
    "    searches attributes string of a genetic locus annotation and attempts to return the\n",
    "    associated gene name\n",
    "\n",
    "    PARAMETERS\n",
    "    --------------------\n",
    "    attributes_str: str\n",
    "        string containing genetic locus annotation, with different attributes separated by\n",
    "        the ';' character\n",
    "    gene_id_prefix: str\n",
    "        expected prefix before the gene name. most common prefixes are: ['gene=', 'Name=', 'protein_id=']\n",
    "\n",
    "    RETURNS\n",
    "    --------------------\n",
    "    gene_name: str\n",
    "        name of gene (e.g., rpoB)\n",
    "\n",
    "    '''\n",
    "    gene_idx = index_containing_substring(attribute_str_split,gene_id_prefix) # find index using helper function\n",
    "    gene_name = attribute_str_split[gene_idx].split('=')[-1]\n",
    "\n",
    "    return(gene_name)"
   ]
  },
  {
   "cell_type": "code",
   "execution_count": null,
   "id": "04e1ab49-1029-4f9f-b125-ce3301219036",
   "metadata": {},
   "outputs": [],
   "source": []
  },
  {
   "cell_type": "code",
   "execution_count": null,
   "id": "f86d8417-4b3d-4c9e-b5b1-37e26326f586",
   "metadata": {},
   "outputs": [],
   "source": []
  },
  {
   "cell_type": "code",
   "execution_count": null,
   "id": "d3955c53-8e61-457c-90f6-c4022f8d18ca",
   "metadata": {},
   "outputs": [],
   "source": []
  },
  {
   "cell_type": "code",
   "execution_count": null,
   "id": "6f68d5de-6933-4a3b-a713-baa610672e29",
   "metadata": {},
   "outputs": [],
   "source": []
  },
  {
   "cell_type": "code",
   "execution_count": null,
   "id": "7eae52f4-1e65-4db8-907e-498090c2cd59",
   "metadata": {},
   "outputs": [],
   "source": []
  },
  {
   "cell_type": "code",
   "execution_count": null,
   "id": "252d5696-9fdb-4e2e-935f-b42fe5aea749",
   "metadata": {},
   "outputs": [],
   "source": []
  },
  {
   "cell_type": "code",
   "execution_count": null,
   "id": "92889c39-9ab3-4255-a3ff-1db3049954c8",
   "metadata": {},
   "outputs": [],
   "source": []
  },
  {
   "cell_type": "code",
   "execution_count": null,
   "id": "42bd3ffb-bff9-4e7e-b9c8-a6e511821fdd",
   "metadata": {},
   "outputs": [],
   "source": []
  },
  {
   "cell_type": "code",
   "execution_count": null,
   "id": "e8747ebc-98e2-4d15-a927-31488f992071",
   "metadata": {},
   "outputs": [],
   "source": []
  },
  {
   "cell_type": "code",
   "execution_count": null,
   "id": "f789ac85-edc8-4e6b-9d5d-771069982812",
   "metadata": {},
   "outputs": [],
   "source": []
  },
  {
   "cell_type": "code",
   "execution_count": null,
   "id": "f8e0b576-c622-4dd8-a9f1-2f71b3c2ceeb",
   "metadata": {},
   "outputs": [],
   "source": []
  },
  {
   "cell_type": "code",
   "execution_count": null,
   "id": "b2c80738-d45a-436a-a112-16fb1ef8cc40",
   "metadata": {},
   "outputs": [],
   "source": []
  }
 ],
 "metadata": {
  "kernelspec": {
   "display_name": "Python 3 (ipykernel)",
   "language": "python",
   "name": "python3"
  },
  "language_info": {
   "codemirror_mode": {
    "name": "ipython",
    "version": 3
   },
   "file_extension": ".py",
   "mimetype": "text/x-python",
   "name": "python",
   "nbconvert_exporter": "python",
   "pygments_lexer": "ipython3",
   "version": "3.9.7"
  }
 },
 "nbformat": 4,
 "nbformat_minor": 5
}
